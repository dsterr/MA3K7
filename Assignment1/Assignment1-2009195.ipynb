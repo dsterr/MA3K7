{
 "cells": [
  {
   "cell_type": "code",
   "execution_count": 1,
   "id": "5460c01d-0090-48a9-9c75-c3f9df7db5b2",
   "metadata": {
    "tags": []
   },
   "outputs": [
    {
     "name": "stdout",
     "output_type": "stream",
     "text": [
      "100\n"
     ]
    }
   ],
   "source": [
    "mod = 10 #everything we do here is done under mod 10\n",
    "def check(a,b): #defining a function to check if two numbers, a and b, form a repeating cycle\n",
    "    cycle = [a,b] #setting a and b as the first two integers of the cycle\n",
    "    StopValue = 0 #variable to stop function when required\n",
    "    for i in range (0,100): #iterate for a large enough number to obtain a cycle, only 100 combinations of two consecutive digits.\n",
    "        cycle += [(cycle[i] + cycle[i+1]) % mod] #appending the summation of previous two numbers mod 10 onto the cycle\n",
    "        for j in range (0,i+1): \n",
    "            if cycle[i+2] == cycle[j+1]: #checking if the most recent addition to the cycle equals any of the previous digit - \"k\"\n",
    "                if cycle[i+1] == cycle[j]: #if previous is true, checking if second most recent cycle addition equals the digit before \"k\".\n",
    "                    StopValue=1 #if true, assign stop value 1\n",
    "                    break\n",
    "        if StopValue==1:\n",
    "            break #break loop if stop value is 1 (when cycle repeats)\n",
    "    return cycle\n",
    "\n",
    "lasttwo = [] #setting up an array to consider if there are any repeats in last 2 digits (\"cycle identifiers\")\n",
    "for m in range (0,10): #iterating first digit of the cycle\n",
    "    for n in range (0,10): #iterating second digit of the cycle, for each first digit\n",
    "        cycle = check(m,n) \n",
    "        lasttwo += [cycle[-2]]\n",
    "        lasttwo += [cycle[-1]]\n",
    "\n",
    "number_of_unique_cycles = 100 #total number of cycles to reduce if one is repeated\n",
    "for k in range (0,99): #iterates for all digits\n",
    "    v1 = lasttwo[2*k] #takes the first of each ordered pair\n",
    "    v2 = lasttwo[2*k+1] #takes the second of each ordered pair\n",
    "    for l in range (k+1,99):\n",
    "        if v1 == lasttwo[2*l]: #checks the first digit appears on every second digit in the sequence\n",
    "            if v2 == lasttwo[2*l+1]: #if the first appears, checks the following term matches\n",
    "                number_of_unique_cycles -= 1 #if both conditions above are true then reduces unique cycles by 1\n",
    "                break\n",
    "            break\n",
    "print(number_of_unique_cycles)"
   ]
  }
 ],
 "metadata": {
  "kernelspec": {
   "display_name": "Python 3 (ipykernel)",
   "language": "python",
   "name": "python3"
  },
  "language_info": {
   "codemirror_mode": {
    "name": "ipython",
    "version": 3
   },
   "file_extension": ".py",
   "mimetype": "text/x-python",
   "name": "python",
   "nbconvert_exporter": "python",
   "pygments_lexer": "ipython3",
   "version": "3.11.5"
  }
 },
 "nbformat": 4,
 "nbformat_minor": 5
}
